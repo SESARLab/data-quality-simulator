{
 "cells": [
  {
   "cell_type": "code",
   "execution_count": null,
   "id": "99d583a0-13d7-426e-ae62-4070137f62db",
   "metadata": {},
   "outputs": [],
   "source": [
    "import sqlite3\n",
    "import pandas as pd\n",
    "from contextlib import closing"
   ]
  },
  {
   "cell_type": "code",
   "execution_count": null,
   "id": "4a7b4312-aa3a-43e9-8bbf-37f5d9ef883e",
   "metadata": {},
   "outputs": [],
   "source": [
    "with closing(sqlite3.connect(\"../db/remote-simulations.db\")) as connection:\n",
    "    with closing(connection.cursor()) as cursor:\n",
    "        rows = cursor.execute(\"SELECT * from results\").fetchall()\n",
    "        print(rows)"
   ]
  },
  {
   "cell_type": "code",
   "execution_count": null,
   "id": "0c27fea4-801d-4d2e-a92e-a491af7f44f7",
   "metadata": {},
   "outputs": [],
   "source": [
    "with closing(sqlite3.connect(\"../db/remote-simulations.db\")) as connection:\n",
    "    sql_query = pd.read_sql_query(\"SELECT * from results\", connection)\n",
    "    results = pd.DataFrame(sql_query)\n",
    "\n",
    "results.head()    "
   ]
  },
  {
   "cell_type": "code",
   "execution_count": null,
   "id": "1380d73a-3dc1-4047-a45c-b56084c6fa70",
   "metadata": {},
   "outputs": [],
   "source": [
    "import operator\n",
    "import functools\n",
    "\n",
    "tested_datasets = results['dataset'].unique()\n",
    "NODES_COUNT = 5\n",
    "SERVICES_COUNT = 5\n",
    "METRIC_NAME = 'qualitative'\n",
    "LOWER_BOUND = 0.2\n",
    "UPPER_BOUND = 1.0\n",
    "filter_conditions = [\n",
    "    lambda df: df['services_count'] == SERVICES_COUNT,\n",
    "    lambda df: df['nodes_count'] == NODES_COUNT,\n",
    "    lambda df: df['metric_name'] == METRIC_NAME,\n",
    "    lambda df: df['lower_bound'] == LOWER_BOUND,\n",
    "    lambda df: df['upper_bound'] == UPPER_BOUND\n",
    "]\n",
    "\n",
    "results_per_dataset = {}\n",
    "for dataset in tested_datasets:\n",
    "    dataset_results = results[results['dataset'] == dataset]\n",
    "    compound_condition = functools.reduce(operator.and_, \\\n",
    "                                          map(lambda filter_cond: filter_cond(dataset_results), filter_conditions))\n",
    "    dataset_results = dataset_results[compound_condition].sort_values(by=['experiment_id', 'window_size'])\n",
    "    display(dataset_results)\n",
    "    results_per_dataset[dataset] = dataset_results"
   ]
  },
  {
   "cell_type": "code",
   "execution_count": null,
   "id": "2475d3ef-3db0-4e15-a386-6327eddd2ddd",
   "metadata": {},
   "outputs": [],
   "source": [
    "import matplotlib.pyplot as plt\n",
    "\n",
    "fig, ax = plt.subplots()\n",
    "# plt.figure(figsize=(10, 6))\n",
    "\n",
    "for dataset, dresults in results_per_dataset.items():\n",
    "    ax.plot(dresults['window_size'], dresults['metric_value'], label=dataset)\n",
    "\n",
    "ax.set_title(f'NODES_COUNT={NODES_COUNT}, SERVICES_COUNT={SERVICES_COUNT}, METRIC_NAME={METRIC_NAME}, LOWER_BOUND={LOWER_BOUND}, UPPER_BOUND={UPPER_BOUND}')\n",
    "ax.set_xlabel('Window size')\n",
    "ax.set_ylabel('Metric value')\n",
    "ax.legend()\n",
    "\n",
    "plt.show()\n",
    "    "
   ]
  }
 ],
 "metadata": {
  "kernelspec": {
   "display_name": "Python 3 (ipykernel)",
   "language": "python",
   "name": "python3"
  },
  "language_info": {
   "codemirror_mode": {
    "name": "ipython",
    "version": 3
   },
   "file_extension": ".py",
   "mimetype": "text/x-python",
   "name": "python",
   "nbconvert_exporter": "python",
   "pygments_lexer": "ipython3",
   "version": "3.11.9"
  }
 },
 "nbformat": 4,
 "nbformat_minor": 5
}
