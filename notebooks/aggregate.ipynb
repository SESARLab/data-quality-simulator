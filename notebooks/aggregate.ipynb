{
 "cells": [
  {
   "cell_type": "code",
   "execution_count": null,
   "id": "99d583a0-13d7-426e-ae62-4070137f62db",
   "metadata": {},
   "outputs": [],
   "source": [
    "import sqlite3\n",
    "import pandas as pd\n",
    "from contextlib import closing"
   ]
  },
  {
   "cell_type": "code",
   "execution_count": null,
   "id": "0c27fea4-801d-4d2e-a92e-a491af7f44f7",
   "metadata": {},
   "outputs": [],
   "source": [
    "'''\n",
    "with closing(sqlite3.connect(\"../db/remote-simulations-sadegh.db\")) as connection:\n",
    "    with closing(connection.cursor()) as cursor:\n",
    "        rows = cursor.execute(\"SELECT * from results\").fetchall()\n",
    "        print(rows)\n",
    "'''\n",
    "with closing(sqlite3.connect(\"../db/remote-simulations.db\")) as connection:\n",
    "    sql_query = pd.read_sql_query(\"SELECT * from results\", connection)\n",
    "    results = pd.DataFrame(sql_query)\n",
    "\n",
    "results.head()"
   ]
  },
  {
   "cell_type": "markdown",
   "id": "43edb0d6-5650-4c2d-98f5-77bf274411a9",
   "metadata": {},
   "source": [
    "## Aggregate results by one dimension\n",
    "\n",
    "After filtering the results, they are grouped by `window_size` so that metric values with different `experiment_id` are averaged."
   ]
  },
  {
   "cell_type": "code",
   "execution_count": null,
   "id": "d3d66695-6df5-4740-95ec-dc6bb8ea995f",
   "metadata": {},
   "outputs": [],
   "source": [
    "import operator\n",
    "import functools\n",
    "\n",
    "COMPARE_PROP = 'dataset'\n",
    "\n",
    "prop_values = results[COMPARE_PROP].unique()\n",
    "params = {\n",
    "    'NODES_COUNT': 10,\n",
    "    'MAX_SERVICES': 5,\n",
    "    'SERVICES_COUNT': 5,\n",
    "    'METRIC_NAME': 'qualitative',\n",
    "    'ROW_LOWER_BOUND': 0.2,\n",
    "    'ROW_UPPER_BOUND': 1,\n",
    "    'COLUMN_LOWER_BOUND': 0.6,\n",
    "    'COLUMN_UPPER_BOUND': 0.9,\n",
    "    #'DATASET': 'inmates_enriched_10k',\n",
    "    'DESCRIPTION': 'column and row filtering (assigning none to filtered)',\n",
    "    'FILTERING_TYPE': 'mixed'\n",
    "}\n",
    "\n",
    "results_filters = [\n",
    "    lambda df: df['max_services'] == params['MAX_SERVICES'],\n",
    "    lambda df: df['services_count'] == params['SERVICES_COUNT'],\n",
    "    lambda df: df['nodes_count'] == params['NODES_COUNT'],\n",
    "    lambda df: df['metric_name'] == params['METRIC_NAME'],\n",
    "    lambda df: df['row_lower_bound'] == params['ROW_LOWER_BOUND'],\n",
    "    lambda df: df['row_upper_bound'] == params['ROW_UPPER_BOUND'],\n",
    "    lambda df: df['column_lower_bound'] == params['COLUMN_LOWER_BOUND'],\n",
    "    lambda df: df['column_upper_bound'] == params['COLUMN_UPPER_BOUND'],\n",
    "    #lambda df: df['dataset'] == params['DATASET'],\n",
    "    lambda df: df['description'] == params['DESCRIPTION'],\n",
    "    lambda df: df['filtering_type'] == params['FILTERING_TYPE'],\n",
    "]\n",
    "\n",
    "def apply_filters_to_dataset(df, filters):\n",
    "    compound_condition = functools.reduce(operator.and_, map(lambda filter: filter(df), filters))\n",
    "    return df[compound_condition]"
   ]
  },
  {
   "cell_type": "code",
   "execution_count": null,
   "id": "3b5f853e-467d-4356-981e-3b075589e368",
   "metadata": {},
   "outputs": [],
   "source": [
    "## agg_results = {}\n",
    "for prop_value in prop_values:\n",
    "    print(prop_value)\n",
    "    filtered_results = apply_filters_to_dataset(results, results_filters + [lambda df: df[COMPARE_PROP] == prop_value]) \\\n",
    "        .groupby(['window_size'])[['metric_value']].mean() \\\n",
    "        .sort_values(by=['window_size', 'metric_value'])\n",
    "\n",
    "    display(filtered_results)\n",
    "    agg_results[prop_value] = filtered_results"
   ]
  },
  {
   "cell_type": "code",
   "execution_count": null,
   "id": "74dc2136-d190-48d8-9760-4f5084167f02",
   "metadata": {},
   "outputs": [],
   "source": [
    "import matplotlib.pyplot as plt\n",
    "\n",
    "fig, ax = plt.subplots()\n",
    "# plt.figure(figsize=(10, 6))\n",
    "\n",
    "for prop_value, dresults in agg_results.items():\n",
    "    if len(dresults) == 0:\n",
    "        continue\n",
    "    ax.plot(dresults.index, dresults['metric_value'], label=prop_value)\n",
    "    plt.xticks(dresults.index)\n",
    "\n",
    "plot_title = ', '.join(map(lambda x: f'{x[0]}={x[1]}', params.items()))\n",
    "ax.set_title(plot_title)\n",
    "ax.set_xlabel('Window size')\n",
    "ax.set_ylabel('Metric value')\n",
    "ax.grid(True)\n",
    "ax.legend(bbox_to_anchor=(1.02, 0.1), loc='upper left', borderaxespad=0)\n",
    "\n",
    "plt.savefig(f'agg_{COMPARE_PROP}.svg', bbox_inches = \"tight\")\n",
    "plt.show()"
   ]
  },
  {
   "cell_type": "markdown",
   "id": "06c48064-5420-45be-808a-06e5e233a1a8",
   "metadata": {},
   "source": [
    "## All experiments by Dataset\n",
    "\n",
    "Results for the same experiment id are not aggregated but have their own plot"
   ]
  },
  {
   "cell_type": "code",
   "execution_count": null,
   "id": "ce6162a9-1773-4c91-a292-23b8b64dfe04",
   "metadata": {},
   "outputs": [],
   "source": [
    "results_map = {}\n",
    "for prop_value in prop_values:\n",
    "    results_map[prop_value] = {}\n",
    "    filtered_results = apply_filters_to_dataset(results, results_filters + [lambda df: df[COMPARE_PROP] == prop_value])\n",
    "    experiment_ids = filtered_results['experiment_id'].unique()\n",
    "    for exp_id in experiment_ids:\n",
    "        exp_id_results = filtered_results[filtered_results['experiment_id'] == exp_id][['window_size', 'metric_value']].drop_duplicates()\n",
    "        results_map[prop_value][exp_id] = exp_id_results"
   ]
  },
  {
   "cell_type": "code",
   "execution_count": null,
   "id": "7edea4e2-bfdb-4439-8154-b4b84c369924",
   "metadata": {},
   "outputs": [],
   "source": [
    "import matplotlib.pyplot as plt\n",
    "\n",
    "def set_experiment_plot_properties(plot, x, y, title):\n",
    "    plot.plot(x, y)\n",
    "    plot.set_xlabel('Window size')\n",
    "    plot.set_ylabel('Metric value')\n",
    "    plot.set_title(title)\n",
    "    plot.grid(True)\n",
    "    plt.xticks(x)\n",
    "    \n",
    "\n",
    "results_map = {k:v for k, v in results_map.items() if len(v) > 0}\n",
    "# + 1 because the first plot shows all the plot\n",
    "fig_width = max(len(exp_res) + 1 for exp_res in results_map.values()) * 4\n",
    "\n",
    "results_count = len(results_map)\n",
    "fig_height = results_count * 5\n",
    "fig = plt.figure(figsize=(fig_width, fig_height), constrained_layout=True)\n",
    "\n",
    "plot_title = ', '.join(map(lambda x: f'{x[0]}={x[1]}', params.items()))\n",
    "fig.suptitle(plot_title)\n",
    "\n",
    "subfigs = fig.subfigures(nrows=results_count, ncols=1, squeeze=False)\n",
    "\n",
    "for i, (prop_value, results_per_prop) in enumerate(results_map.items()):\n",
    "    subfig = subfigs.item(i)\n",
    "    subfig.suptitle(f'Results for {prop_value}')\n",
    "\n",
    "    # + 1 refers to the first plot, which shows all the experiments\n",
    "    axs = subfig.subplots(1, len(results_per_prop) + 1, sharex=True, sharey=True, squeeze=False)\n",
    "    for exp_index, (exp_id, exp_id_results) in enumerate(results_per_prop.items()):\n",
    "        set_experiment_plot_properties(axs[0][len(results_per_prop)], exp_id_results['window_size'], exp_id_results['metric_value'], f'All experiments')\n",
    "        set_experiment_plot_properties(axs[0][exp_index], exp_id_results['window_size'], exp_id_results['metric_value'], f'Experiment id = {exp_id}')\n",
    "\n",
    "#fig.tight_layout()\n",
    "plt.savefig(f'all_exp_{COMPARE_PROP}.svg', bbox_inches='tight')\n",
    "plt.show()"
   ]
  }
 ],
 "metadata": {
  "kernelspec": {
   "display_name": "Python 3 (ipykernel)",
   "language": "python",
   "name": "python3"
  },
  "language_info": {
   "codemirror_mode": {
    "name": "ipython",
    "version": 3
   },
   "file_extension": ".py",
   "mimetype": "text/x-python",
   "name": "python",
   "nbconvert_exporter": "python",
   "pygments_lexer": "ipython3",
   "version": "3.11.9"
  }
 },
 "nbformat": 4,
 "nbformat_minor": 5
}
