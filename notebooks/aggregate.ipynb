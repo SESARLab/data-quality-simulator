{
 "cells": [
  {
   "cell_type": "code",
   "execution_count": null,
   "id": "99d583a0-13d7-426e-ae62-4070137f62db",
   "metadata": {},
   "outputs": [],
   "source": [
    "import sqlite3\n",
    "import pandas as pd\n",
    "from contextlib import closing"
   ]
  },
  {
   "cell_type": "code",
   "execution_count": null,
   "id": "0c27fea4-801d-4d2e-a92e-a491af7f44f7",
   "metadata": {},
   "outputs": [],
   "source": [
    "'''\n",
    "with closing(sqlite3.connect(\"../db/remote-simulations.db\")) as connection:\n",
    "    with closing(connection.cursor()) as cursor:\n",
    "        rows = cursor.execute(\"SELECT * from results\").fetchall()\n",
    "        print(rows)\n",
    "'''\n",
    "with closing(sqlite3.connect(\"../db/remote-simulations.db\")) as connection:\n",
    "    sql_query = pd.read_sql_query(\"SELECT * from results\", connection)\n",
    "    results = pd.DataFrame(sql_query)\n",
    "\n",
    "results.head()"
   ]
  },
  {
   "cell_type": "code",
   "execution_count": null,
   "id": "5ec6309f-c82d-4460-b778-222c9879e676",
   "metadata": {},
   "outputs": [],
   "source": [
    "import operator\n",
    "import functools\n",
    "\n",
    "# tested_datasets = results['filtering_type'].unique()\n",
    "tested_datasets = results['dataset'].unique()\n",
    "NODES_COUNT = 5\n",
    "SERVICES_COUNT = 4\n",
    "METRIC_NAME = 'qualitative'\n",
    "LOWER_BOUND = 0.2\n",
    "UPPER_BOUND = 0.6\n",
    "FILTERING_TYPE = 'column'\n",
    "\n",
    "results_filters = [\n",
    "    lambda df: df['services_count'] == SERVICES_COUNT,\n",
    "    lambda df: df['nodes_count'] == NODES_COUNT,\n",
    "    lambda df: df['metric_name'] == METRIC_NAME,\n",
    "    lambda df: df['lower_bound'] == LOWER_BOUND,\n",
    "    lambda df: df['upper_bound'] == UPPER_BOUND,\n",
    "    lambda df: df['filtering_type'] == FILTERING_TYPE,\n",
    "    lambda df: df['description'] == 'test upper bound low'\n",
    "]\n",
    "\n",
    "def apply_filters_to_dataset(df, filters):\n",
    "    compound_condition = functools.reduce(operator.and_, map(lambda filter: filter(df), filters))\n",
    "    return df[compound_condition]"
   ]
  },
  {
   "cell_type": "markdown",
   "id": "43edb0d6-5650-4c2d-98f5-77bf274411a9",
   "metadata": {},
   "source": [
    "## Aggregate results\n",
    "\n",
    "After filtering the results, they are grouped by `window_size` so that metric values with different `experiment_id` are averaged."
   ]
  },
  {
   "cell_type": "code",
   "execution_count": null,
   "id": "1380d73a-3dc1-4047-a45c-b56084c6fa70",
   "metadata": {},
   "outputs": [],
   "source": [
    "# dataset_results = apply_filters_to_dataset(results, results_filters + [lambda df: df['filtering_type'] == dataset]) \\\n",
    "agg_results_per_dataset = {}\n",
    "for dataset in tested_datasets:\n",
    "    dataset_results = apply_filters_to_dataset(results, results_filters + [lambda df: df['dataset'] == dataset]) \\\n",
    "        .groupby(['window_size'])[['metric_value']].mean() \\\n",
    "        .sort_values(by=['window_size', 'metric_value'])\n",
    "        #.sort_values(by=['experiment_id', 'window_size', 'description'])\n",
    "\n",
    "    display(dataset_results)\n",
    "    agg_results_per_dataset[dataset] = dataset_results"
   ]
  },
  {
   "cell_type": "code",
   "execution_count": null,
   "id": "2475d3ef-3db0-4e15-a386-6327eddd2ddd",
   "metadata": {},
   "outputs": [],
   "source": [
    "import matplotlib.pyplot as plt\n",
    "\n",
    "fig, ax = plt.subplots()\n",
    "# plt.figure(figsize=(10, 6))\n",
    "\n",
    "for dataset, dresults in agg_results_per_dataset.items():\n",
    "    ax.plot(dresults.index, dresults['metric_value'], label=dataset)\n",
    "    plt.xticks(dresults.index)\n",
    "\n",
    "ax.set_title(f'NODES_COUNT={NODES_COUNT}, SERVICES_COUNT={SERVICES_COUNT}, METRIC_NAME={METRIC_NAME}, LOWER_BOUND={LOWER_BOUND}, UPPER_BOUND={UPPER_BOUND}, FILTERING_TYPE={FILTERING_TYPE}')\n",
    "ax.set_xlabel('Window size')\n",
    "ax.set_ylabel('Metric value')\n",
    "ax.grid(True)\n",
    "ax.legend()\n",
    "\n",
    "plt.show()\n",
    "    "
   ]
  },
  {
   "cell_type": "markdown",
   "id": "06c48064-5420-45be-808a-06e5e233a1a8",
   "metadata": {},
   "source": [
    "## All experiments\n",
    "\n",
    "Results for the same experiment id are not aggregated but have their own plot"
   ]
  },
  {
   "cell_type": "code",
   "execution_count": null,
   "id": "ce6162a9-1773-4c91-a292-23b8b64dfe04",
   "metadata": {},
   "outputs": [],
   "source": [
    "results_per_dataset = {}\n",
    "for dataset in tested_datasets:\n",
    "    results_per_dataset[dataset] = {}\n",
    "    dataset_results = apply_filters_to_dataset(results, results_filters + [lambda df: df['dataset'] == dataset])\n",
    "    experiment_ids = dataset_results['experiment_id'].unique()\n",
    "    for exp_id in experiment_ids:\n",
    "        exp_id_results = dataset_results[dataset_results['experiment_id'] == exp_id][['window_size', 'metric_value']]\n",
    "        results_per_dataset[dataset][exp_id] = exp_id_results"
   ]
  },
  {
   "cell_type": "code",
   "execution_count": null,
   "id": "7edea4e2-bfdb-4439-8154-b4b84c369924",
   "metadata": {},
   "outputs": [],
   "source": [
    "import matplotlib.pyplot as plt\n",
    "\n",
    "fig_width = max(len(exp_res) for exp_res in results_per_dataset.values()) * 4\n",
    "\n",
    "fig = plt.figure(figsize=(fig_width, 6), constrained_layout=True)\n",
    "fig.suptitle(f'NODES_COUNT={NODES_COUNT}, SERVICES_COUNT={SERVICES_COUNT}, METRIC_NAME={METRIC_NAME}, LOWER_BOUND={LOWER_BOUND}, UPPER_BOUND={UPPER_BOUND}, FILTERING_TYPE={FILTERING_TYPE}')\n",
    "\n",
    "dataset_res_count = len(results_per_dataset)\n",
    "subfigs = fig.subfigures(nrows=dataset_res_count, ncols=1, squeeze=False)\n",
    "\n",
    "for i, (dataset, dresults) in enumerate(results_per_dataset.items()):\n",
    "    subfig = subfigs.item(i)\n",
    "    subfig.suptitle(f'Results for {dataset}')\n",
    "\n",
    "    axs = subfig.subplots(1, len(dresults), sharex=True, sharey=True, squeeze=False)\n",
    "    # plt.figure(figsize=(10, 6))\n",
    "    for exp_index, (exp_id, exp_id_results) in enumerate(dresults.items()):\n",
    "        axs[i][exp_index].plot(exp_id_results['window_size'], exp_id_results['metric_value'])#, label=f'Experiment id = {exp_id}')\n",
    "        axs[i][exp_index].set_xlabel('Window size')\n",
    "        axs[i][exp_index].set_ylabel('Metric value')\n",
    "        axs[i][exp_index].set_title(f'Experiment id = {exp_id}')\n",
    "        axs[i][exp_index].grid(True)\n",
    "        # axs[i][exp_id].legend()\n",
    "        plt.xticks(exp_id_results['window_size'])\n",
    "\n",
    "#fig.tight_layout()\n",
    "plt.savefig('plot.png', bbox_inches='tight')\n",
    "plt.show()"
   ]
  }
 ],
 "metadata": {
  "kernelspec": {
   "display_name": "Python 3 (ipykernel)",
   "language": "python",
   "name": "python3"
  },
  "language_info": {
   "codemirror_mode": {
    "name": "ipython",
    "version": 3
   },
   "file_extension": ".py",
   "mimetype": "text/x-python",
   "name": "python",
   "nbconvert_exporter": "python",
   "pygments_lexer": "ipython3",
   "version": "3.11.9"
  }
 },
 "nbformat": 4,
 "nbformat_minor": 5
}
