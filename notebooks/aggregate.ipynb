{
 "cells": [
  {
   "cell_type": "code",
   "execution_count": 6,
   "id": "99d583a0-13d7-426e-ae62-4070137f62db",
   "metadata": {},
   "outputs": [],
   "source": [
    "import sqlite3\n",
    "from contextlib import closing"
   ]
  },
  {
   "cell_type": "code",
   "execution_count": 8,
   "id": "4a7b4312-aa3a-43e9-8bbf-37f5d9ef883e",
   "metadata": {},
   "outputs": [
    {
     "name": "stdout",
     "output_type": "stream",
     "text": [
      "[(0.492291161, 1, 1, 3, 2, 3, 2, 'inmates_enriched_10k', 'qualitative', 0.4216496970595123, 0.13757713376398029, 0.1, 1.0), (0.229804543, 1, 2, 3, 2, 3, 2, 'inmates_enriched_10k', 'qualitative', 0.4216496970595123, 0.13757713376398029, 0.1, 1.0), (0.460659098, 1, 1, 3, 3, 3, 2, 'inmates_enriched_10k', 'qualitative', 0.47868924815734026, 0.08782206187217996, 0.1, 1.0), (0.464771934, 1, 2, 3, 3, 3, 2, 'inmates_enriched_10k', 'qualitative', 0.47868924815734026, 0.08782206187217996, 0.1, 1.0), (0.454780562, 1, 3, 3, 3, 3, 2, 'inmates_enriched_10k', 'qualitative', 0.47868924815734026, 0.08782206187217996, 0.1, 1.0), (0.347857692, 1, 1, 3, 2, 3, 3, 'inmates_enriched_10k', 'qualitative', 0.4289241448782952, 0.12611941035202437, 0.1, 1.0), (0.481055865, 1, 2, 3, 2, 3, 3, 'inmates_enriched_10k', 'qualitative', 0.4289241448782952, 0.12611941035202437, 0.1, 1.0), (0.497336361, 1, 1, 3, 3, 3, 3, 'inmates_enriched_10k', 'qualitative', 0.7230307641732675, 0.0050003168402566, 0.1, 1.0), (0.851508632, 1, 2, 3, 3, 3, 3, 'inmates_enriched_10k', 'qualitative', 0.7230307641732675, 0.0050003168402566, 0.1, 1.0), (1.213618052, 1, 3, 3, 3, 3, 3, 'inmates_enriched_10k', 'qualitative', 0.7230307641732675, 0.0050003168402566, 0.1, 1.0)]\n"
     ]
    }
   ],
   "source": [
    "with closing(sqlite3.connect(\"../db/simulations.db\")) as connection:\n",
    "    with closing(connection.cursor()) as cursor:\n",
    "        rows = cursor.execute(\"SELECT * from results\").fetchall()\n",
    "        print(rows)"
   ]
  }
 ],
 "metadata": {
  "kernelspec": {
   "display_name": "Python 3 (ipykernel)",
   "language": "python",
   "name": "python3"
  },
  "language_info": {
   "codemirror_mode": {
    "name": "ipython",
    "version": 3
   },
   "file_extension": ".py",
   "mimetype": "text/x-python",
   "name": "python",
   "nbconvert_exporter": "python",
   "pygments_lexer": "ipython3",
   "version": "3.11.9"
  }
 },
 "nbformat": 4,
 "nbformat_minor": 5
}
